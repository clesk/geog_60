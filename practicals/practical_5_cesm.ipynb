{
 "cells": [
  {
   "cell_type": "markdown",
   "id": "6c2b5910-2b19-4b52-8a5b-93bcd8e471b8",
   "metadata": {},
   "source": [
    "# GEOG 60: Practical 5 -- exploring CESM output\n",
    "_____"
   ]
  },
  {
   "cell_type": "markdown",
   "id": "adab5eef-ca67-43b9-b82c-8467f100ae39",
   "metadata": {},
   "source": [
    "We've already run CESM from the terminal and tranferred the output files to jhub. Now we can open up and explore the data, figure out what data variables are contained in the outputs, assess whether the outputs make sense, etc."
   ]
  },
  {
   "cell_type": "code",
   "execution_count": 8,
   "id": "6b8435a4-f0b0-4aa9-9d69-7b4d199d9a16",
   "metadata": {},
   "outputs": [],
   "source": [
    "# importing packages / modules\n",
    "import os\n",
    "import numpy as np\n",
    "import xarray as xr \n",
    "\n",
    "import matplotlib as mpl\n",
    "import matplotlib.pyplot as plt\n",
    "%matplotlib inline \n",
    "plt.rcParams['figure.figsize'] = 12, 6 #setting figure size\n",
    "\n",
    "import cartopy \n",
    "import cartopy.crs as ccrs\n",
    "import cartopy.feature as cf"
   ]
  },
  {
   "cell_type": "code",
   "execution_count": 15,
   "id": "d6a5a457-74de-4a38-b1a9-bfcd6b261f06",
   "metadata": {},
   "outputs": [],
   "source": [
    "#os.getcwd()"
   ]
  },
  {
   "cell_type": "code",
   "execution_count": 17,
   "id": "b34719dc-6692-452b-8d2a-8e20596f9c0d",
   "metadata": {},
   "outputs": [],
   "source": [
    "# set the directory where the CESM data is saved\n",
    "cesm_directory = '/home/jovyan/oshea_geog60/practical5'\n",
    "\n",
    "# load the atmosphere (CAM) and land (CLM) data\n",
    "ds_cam = xr.open_dataset(cesm_directory+'/test_b1850_f19_g17.cam.h0.0001-01.nc')\n",
    "ds_clm = xr.open_dataset(cesm_directory+'/test_b1850_f19_g17.clm2.h0.0001-01.nc')"
   ]
  },
  {
   "cell_type": "code",
   "execution_count": 19,
   "id": "cf79c2c9-5045-4b22-8cf7-9ccf79da1292",
   "metadata": {},
   "outputs": [],
   "source": [
    "#ds_cam"
   ]
  },
  {
   "cell_type": "markdown",
   "id": "86571bef-fdc0-4926-b75f-122539daa9c2",
   "metadata": {},
   "source": [
    "Now that we've loaded the data, we need to explore the datasets to get a sense of how they are structured. Xarray makes this easy by providing a snapshot of the data. \n",
    "\n",
    "Key starting questions are: \n",
    "  - What is the horizontal grid resolution?\n",
    "  - Is there another spatial dimension? \n",
    "  - How many timesteps are there? \n",
    "  - Do we know what time period is covered (what is the season)?"
   ]
  },
  {
   "cell_type": "code",
   "execution_count": 6,
   "id": "8193b439-829f-40ba-92d8-62d2ba61dde9",
   "metadata": {},
   "outputs": [],
   "source": [
    "# display a snapshot of the output datasets and examine the dimensions and attributes\n"
   ]
  },
  {
   "cell_type": "code",
   "execution_count": null,
   "id": "4a46497d-d431-4add-ae40-bb2cec2841f3",
   "metadata": {},
   "outputs": [],
   "source": []
  },
  {
   "cell_type": "markdown",
   "id": "7e011bcf-8b08-458a-afbe-866b764e7c19",
   "metadata": {},
   "source": [
    "## 1. Explore atmospheric outputs"
   ]
  },
  {
   "cell_type": "markdown",
   "id": "cf02ecf7-6243-41bd-ba33-516f0282b667",
   "metadata": {},
   "source": [
    "Next, we need to explore the data variables contained in the two datasets. Let's start with the atmosphere output from CAM. You'll notice there are lots of data variables, often with cryptic short names. Thankfully, Xarray makes it easy to identify the full name and units of the variables.\n",
    "\n",
    "Some variables are of more immediate and general interest, while others are quite technical and specific. To help get a sense of the variables, you can use the searchable data variable list here: https://www.cesm.ucar.edu/community-projects/lens2/output-variables\n",
    "\n"
   ]
  },
  {
   "cell_type": "code",
   "execution_count": 33,
   "id": "dcd594bd-db1b-45f0-84fa-80ccb025a06d",
   "metadata": {},
   "outputs": [],
   "source": [
    "# display a snapshot of the CAM ds to exploklre the variables. note down any that are of interest.\n",
    "\n"
   ]
  },
  {
   "cell_type": "markdown",
   "id": "c13057bf-de7a-4bc4-b937-5f8c54b023c9",
   "metadata": {},
   "source": [
    "### As a group, Characterize CO2"
   ]
  },
  {
   "cell_type": "markdown",
   "id": "c7fe3e97-51b0-41b6-bccd-c0dd749070f0",
   "metadata": {},
   "source": [
    "It's important to know what the CO2 level is for our model time step. **Locate this variable and display its value.** **Are the units what you are used to considering for atmospheric CO2 concentrations (typically, ppm)?**\n",
    "\n",
    "ESM outputs are often in odd units used for modeling, but not the units commonly used outside models. So, unit conversions are very useful to make sense of the model outputs. How can we convert between volume mixing ratio and ppm?\n",
    "\n",
    "**Once we do that conversion, how would you characterize this CO2 concentration?** (High? Low?)\n",
    "\n",
    "For reference, here is a plot of CO2 concentrations from 1950 onward \n",
    "https://climate.nasa.gov/vital-signs/carbon-dioxide/?intent=121\n",
    "\n",
    "https://www.ecoclimax.com/2019/08/co2-concentration-in-atmosphere-over.html\n"
   ]
  },
  {
   "cell_type": "code",
   "execution_count": null,
   "id": "009e953e-b80f-4dd7-8f6c-379475b8b8e4",
   "metadata": {},
   "outputs": [],
   "source": [
    "# convert the units of CO2 concentrations to ppm\n"
   ]
  },
  {
   "cell_type": "markdown",
   "id": "739ee505-061b-4ba1-b771-670a64cc6320",
   "metadata": {},
   "source": [
    "### Let's check out Temperature: "
   ]
  },
  {
   "cell_type": "markdown",
   "id": "4806947e-d8f8-4778-ba57-548613e9bf21",
   "metadata": {},
   "source": [
    "Now let's look at temperature. CAM outputs both surface temperature and the temperature across atmospheric levels -- let's start with surface temperature, and plot a map of it. You can do this using the .plot() function in Xarray.\n",
    "\n",
    "**Does the global pattern of temperature make sense?**"
   ]
  },
  {
   "cell_type": "code",
   "execution_count": 9,
   "id": "7fcaeacd-12fe-41e4-aa88-0d0418320f66",
   "metadata": {},
   "outputs": [],
   "source": [
    "# plot a map of surface temperature\n"
   ]
  },
  {
   "cell_type": "markdown",
   "id": "566189dc-3347-4577-a8ab-b869f28eb0f9",
   "metadata": {},
   "source": [
    "### As a group, explore vertical temperature profiles..."
   ]
  },
  {
   "cell_type": "markdown",
   "id": "69fd98e7-a1f3-45ee-afe1-10130d978a99",
   "metadata": {},
   "source": [
    "Next, we can explore the vertical temperature profiles at different latitudes. To do so, let's:\n",
    "\n",
    "1) Average the temperature data across longitudes, for each latitude\n",
    "2) Select a low latitude (e.g. 10 degrees) and a high latitude (e.g. 50 degrees) to compare.\n",
    "3) Plot them (and label the axes)\n",
    "\n",
    "Note that the vertical coordinate is 0 at the surface and increases with height (which is different from the coordinates we've seen in class)"
   ]
  },
  {
   "cell_type": "code",
   "execution_count": 23,
   "id": "ecb893b4-2405-4cf8-9bb2-3dfa80ed6b4a",
   "metadata": {},
   "outputs": [],
   "source": [
    "#ds_cam"
   ]
  },
  {
   "cell_type": "code",
   "execution_count": 8,
   "id": "5581aa65-555e-4b45-83a3-20407eacfc89",
   "metadata": {},
   "outputs": [],
   "source": [
    "# grab temperature and average it across longitudes:\n",
    "vertical_temp = ds_cam.T\n",
    "zonal_mean_vertical_temp = vertical_temp.mean('lon')\n",
    "\n",
    "# what are the dimension of the data now?\n"
   ]
  },
  {
   "cell_type": "markdown",
   "id": "ccf59c1d-c32f-431e-81a0-55ff0be32a18",
   "metadata": {},
   "source": [
    "**What are the dimension of the data now?**"
   ]
  },
  {
   "cell_type": "markdown",
   "id": "a298302a-594d-41a7-bd24-07fb221f5102",
   "metadata": {},
   "source": []
  },
  {
   "cell_type": "code",
   "execution_count": 38,
   "id": "4ab83752-e5b7-42c4-ba8d-1acf2553dd99",
   "metadata": {},
   "outputs": [],
   "source": [
    "# select two different latitudes:\n",
    "hi_lat = 50\n",
    "lo_lat = 10\n",
    "# use .sel to grap the data at this latitude. \n",
    "# hint: remember to use method='nearest' so you don't have to have exact matches..\n",
    "vertical_temp_hi = \n",
    "vertical_temp_lo = "
   ]
  },
  {
   "cell_type": "code",
   "execution_count": null,
   "id": "69a2e735-9b3f-41fa-b267-4620de26b00e",
   "metadata": {},
   "outputs": [],
   "source": [
    "# now we can plot the vertical temperature profiles. \n",
    "plt.plot(vertical_temp_hi.T.values.flatten(),vertical_temp_hi.lev.values[::-1])\n",
    "plt.plot(vertical_temp_lo.T.values.flatten(),vertical_temp_lo.lev.values[::-1])\n",
    "\n",
    "plt.xlabel('')\n",
    "plt.ylabel('')"
   ]
  },
  {
   "cell_type": "markdown",
   "id": "31b4c53c-6963-42b6-8817-c5fbd9ba9f06",
   "metadata": {},
   "source": [
    "**What is on the x and y axes in the plot? Which one is high latitude and which is low? Why do they differ?**"
   ]
  },
  {
   "cell_type": "markdown",
   "id": "37966731-f7c8-41bb-ac87-9837fa7fc401",
   "metadata": {},
   "source": []
  },
  {
   "cell_type": "markdown",
   "id": "28878746-e097-43d9-94ce-661e339b5e7d",
   "metadata": {},
   "source": [
    "## 2. Check the energy balance\n",
    "Now let's look at the energy balance, which is an important driver of the temperature patterns we explored above. Recall that our planteray energy balance is determined by the balance of two key radiative fluxes at the top of the atmosphere. \n",
    "\n",
    "There are many radiation variables in the CAM outputs -- they all start with 'F', but there are upwards, downwards, and net fluxes, for shortwave and longwave, and for different sky conditions.\n",
    "\n",
    "**Which variables do we want for assessing top-of-atmosphere energy balance?**\n"
   ]
  },
  {
   "cell_type": "markdown",
   "id": "a3fbe126-54b4-4c91-a0ce-adcc126921f5",
   "metadata": {},
   "source": []
  },
  {
   "cell_type": "markdown",
   "id": "38152674-7e2c-41ce-a3f1-694bf98671a4",
   "metadata": {},
   "source": [
    "**In your groups,** let's plot those, again as a zonal mean (i.e., average across longitudes for each latitude). *Hint: Use your code from the previous zonal mean calculations to inform this one*. "
   ]
  },
  {
   "cell_type": "code",
   "execution_count": 2,
   "id": "e18d8412-5782-4c3b-ab67-6ca6f79c9d84",
   "metadata": {},
   "outputs": [],
   "source": [
    "# Calculate zonal mean of TOA energy vars"
   ]
  },
  {
   "cell_type": "code",
   "execution_count": null,
   "id": "b820ad79-dded-40e2-8436-27e7b6ce2371",
   "metadata": {},
   "outputs": [],
   "source": [
    "# plot them! "
   ]
  },
  {
   "cell_type": "markdown",
   "id": "b60a26ee-45f2-417d-aaab-976c2dfa4fea",
   "metadata": {},
   "source": [
    "**What do you notice about the TOA energy balance across latitudes? Does this pattern make sense, given the season we're in?**"
   ]
  },
  {
   "cell_type": "markdown",
   "id": "8c5a1347-70d3-45f3-ba9b-9b5671e3cfcc",
   "metadata": {},
   "source": []
  },
  {
   "cell_type": "markdown",
   "id": "140276d8-89ca-41f3-9715-1d4b3d057156",
   "metadata": {},
   "source": [
    "### VT"
   ]
  },
  {
   "cell_type": "markdown",
   "id": "a7d73973-1b48-4849-b176-8e12f3f7e461",
   "metadata": {},
   "source": [
    "As we discussed in class, local radiative imbalances (like net negative radiation at high latitudes in winter) are partly compensated by meridional (polewards) heat transport in the atmosphere. This quantity is output by CESM in the variable called VT. Have a look at that variable: what are its units and coordinates?"
   ]
  },
  {
   "cell_type": "code",
   "execution_count": 1,
   "id": "ad7d7841-a858-43be-ba71-5b3ffe2a26fb",
   "metadata": {},
   "outputs": [],
   "source": [
    "#ds_cam.VT"
   ]
  },
  {
   "cell_type": "markdown",
   "id": "b8ddc796-e507-47bc-8443-6aee4c2d705f",
   "metadata": {},
   "source": [
    "Now lets check if polewards heat transport is as we'd expect. Let's focus on surface heat transport (so, for the lowermost atmospheric level in the model). Let's also focus on the latitudinal variation by averaging zonally (across longitudes, as we did above. From where to where is heat being transported by the atmosphere?"
   ]
  },
  {
   "cell_type": "code",
   "execution_count": null,
   "id": "22826010-5092-41fe-bc22-d437a2a29fa9",
   "metadata": {},
   "outputs": [],
   "source": [
    "ds_cam.VT.sel(lev=ds_cam.lev[0]).mean('lon').plot()\n"
   ]
  },
  {
   "cell_type": "markdown",
   "id": "94b2ee84-0764-456d-af25-8c89a71d45d5",
   "metadata": {},
   "source": [
    "## 3. Look at precipitation\n",
    "\n",
    "Let's have a look at precipitation. The precip variables in CESM start with 'PRE' followed by two other letters -- what are these different variables?\n",
    "\n"
   ]
  },
  {
   "cell_type": "code",
   "execution_count": null,
   "id": "ef7960a3-a09a-4f42-968d-54c6fe372420",
   "metadata": {},
   "outputs": [],
   "source": [
    "# check out your prcp variables...\n"
   ]
  },
  {
   "cell_type": "markdown",
   "id": "cf52d734-c44b-477f-925c-0b24b0b36cab",
   "metadata": {},
   "source": [
    "Let's look at where convective and large-scale precipitation are occurring. Map each variable separately. To do so, we can use the Cartopy package, as follows. Note that the precipitation units (m/s) are not the ones we'd usually use -- convert the units into a more typical unit (like mm). To do so, it's useful to know that there are 86400 s in a day, and to recall the time step of our run."
   ]
  },
  {
   "cell_type": "code",
   "execution_count": null,
   "id": "d5996b92-1c30-4a89-8a07-d2ad86ee63b0",
   "metadata": {},
   "outputs": [],
   "source": [
    "# First is done for you...\n",
    "# set up a blank figure\n",
    "fig = plt.figure(figsize=(17,14))\n",
    "\n",
    "# add axes and set the map projection\n",
    "ax = fig.add_subplot(projection=ccrs.Robinson())\n",
    "\n",
    "# plot the large-scale precip on those axes\n",
    "ds_cam.PRECL.plot(transform=ccrs.PlateCarree(),ax=ax)\n",
    "\n",
    "# add coastlines, so we can tell where the continents are\n",
    "ax.coastlines(linewidth=1)"
   ]
  },
  {
   "cell_type": "code",
   "execution_count": null,
   "id": "3ee56138-6af5-4b4d-adb2-c55a94d16dea",
   "metadata": {},
   "outputs": [],
   "source": [
    "# do the same for convective precip\n"
   ]
  },
  {
   "cell_type": "markdown",
   "id": "bf1330ee-dc2e-4ec8-a4c0-378614e2ce2d",
   "metadata": {},
   "source": [
    "**How does the location of convective precipitation relate to the radiative balance we plotted above? What about large-scale precipitation?**"
   ]
  },
  {
   "cell_type": "markdown",
   "id": "5363df11-7ffa-4eae-8d7f-491ca1c4ea10",
   "metadata": {},
   "source": [
    "If we now plot VT (meridional heat transport) at a higher level in the atmosphere, you'll notice there is a hotspot in the North Atlantic. How might that relate to the precipitation we see there?"
   ]
  },
  {
   "cell_type": "code",
   "execution_count": null,
   "id": "e098e170-1d73-4abb-9a70-6aec1f9335ff",
   "metadata": {},
   "outputs": [],
   "source": [
    "# set up a blank figure\n",
    "\n",
    "\n",
    "# add axes and set the map projection\n",
    "\n",
    "# plot VT on those axes\n",
    "ds_cam.VT.sel(lev=ds_cam.lev[6]).plot(transform=ccrs.PlateCarree(),ax=ax)\n",
    "\n",
    "# add coastlines\n"
   ]
  },
  {
   "cell_type": "markdown",
   "id": "deb4a5cb-ef99-4274-8fbb-d1a5606c458e",
   "metadata": {},
   "source": [
    "## 4. Community Land Model (CLM) & The Hydrologic Budget"
   ]
  },
  {
   "cell_type": "markdown",
   "id": "1a4e7300-a24a-4ea6-81ba-a76a6b667425",
   "metadata": {},
   "source": [
    "Now, let's use the CLM + our precipitation data to look more broadly at the hydrologic budget. \n",
    "\n",
    "First, let's get a sense of the coordinates of the CLM output. You'll notice they are different from the CAM output -- what do these dimensions represent?\n"
   ]
  },
  {
   "cell_type": "code",
   "execution_count": 14,
   "id": "3e46fa4d-ad46-4686-af87-1c8a43435a7a",
   "metadata": {},
   "outputs": [],
   "source": [
    "# check out your clm data (ds_clm)\n",
    "#ds_clm"
   ]
  },
  {
   "cell_type": "markdown",
   "id": "d61c3789-36eb-449e-a134-0d359614739e",
   "metadata": {
    "tags": []
   },
   "source": [
    "### Hydrologic budget in CLM\n"
   ]
  },
  {
   "cell_type": "markdown",
   "id": "caba7db7-47cf-45ed-95fe-315f2b4197e2",
   "metadata": {},
   "source": [
    "Before using the CLM output, let's first calculate the total precipitation (from our CAM output), as we no longer care whether it is convective or large-scale. Make sure to convert units to mm/month. Plot to see if it looks reasonable."
   ]
  },
  {
   "cell_type": "code",
   "execution_count": null,
   "id": "34482338-68a0-419c-8edd-981a322fefe1",
   "metadata": {},
   "outputs": [],
   "source": [
    "# add together convective and large-scale\n",
    "total_precip = \n",
    "\n",
    "# convert to mm/month\n",
    "total_precip = total_precip * \n",
    "\n",
    "#plot to check\n",
    "fig = plt.figure(figsize=(17,14))\n",
    "ax = fig.add_subplot(projection=ccrs.Robinson())\n",
    "total_precip.plot(transform=ccrs.PlateCarree(),ax=ax)\n",
    "ax.coastlines(linewidth=1)\n"
   ]
  },
  {
   "cell_type": "markdown",
   "id": "cd3bf853-b2d1-4223-aa94-f629a3337275",
   "metadata": {},
   "source": [
    "With this CAM output combined with the CLM output, we can now examine the hydrologic budget.\n",
    "\n",
    "Recall that the local water budget requires that the change in land water storage equals the balance between water in (precipitation) minus water out (evapotranspiration and runoff)\n",
    "\n",
    "CLM reports evapotranspiration in three terms: transpiration (QVEGT), evaporation (QSOIL) and interception (QVEGE). Let's first plot them separately and examine their pattern across the globe. Then, let's add them together into a single ET variable. Note the units are different from those for precipitation -- make sure to convert the units to mm/month."
   ]
  },
  {
   "cell_type": "code",
   "execution_count": null,
   "id": "f73ea28d-6114-4e26-a8fe-38d0ee743e59",
   "metadata": {},
   "outputs": [],
   "source": [
    "# plot them separately here: \n",
    "#transpiration (QVEGT), \n",
    "\n"
   ]
  },
  {
   "cell_type": "code",
   "execution_count": null,
   "id": "8dc33547-51ec-49da-9a13-9d2ebe411467",
   "metadata": {},
   "outputs": [],
   "source": [
    "#evaporation (QSOIL)\n"
   ]
  },
  {
   "cell_type": "code",
   "execution_count": null,
   "id": "60c3f977-d366-4fbb-bc85-1498f0b6018b",
   "metadata": {},
   "outputs": [],
   "source": [
    "#interception (QVEGE)\n"
   ]
  },
  {
   "cell_type": "code",
   "execution_count": null,
   "id": "ef29e928-b5ce-4dfd-8297-13536cd23b1b",
   "metadata": {},
   "outputs": [],
   "source": [
    "# combine them! \n",
    "ET = \n",
    "\n",
    "secondsinaday = 86400\n",
    "daysinamonth = 31\n",
    "\n",
    "# convert ET to mm/month\n",
    "ET = ET*secondsinaday*daysinamonth"
   ]
  },
  {
   "cell_type": "code",
   "execution_count": null,
   "id": "3f139b81-dafb-4aca-86d7-897b10cafee3",
   "metadata": {},
   "outputs": [],
   "source": [
    "ET.plot()"
   ]
  },
  {
   "cell_type": "markdown",
   "id": "44d7df4d-46a2-458c-9e1b-a826f88bff19",
   "metadata": {},
   "source": [
    "Now let's find the runoff variable -- it's called QRUNOFF in CLM."
   ]
  },
  {
   "cell_type": "code",
   "execution_count": null,
   "id": "ce48fd6d-f9c9-4154-80cd-96158a1d15d7",
   "metadata": {},
   "outputs": [],
   "source": [
    "# convert run off to the same mm/month units as we did ET\n",
    "Q = \n",
    "Q.plot()"
   ]
  },
  {
   "cell_type": "markdown",
   "id": "117aa954-d0f9-49f6-877f-81071eae5b01",
   "metadata": {},
   "source": [
    "Now we can bring in precip. To do so, we need to do some processing of the precip data. \n",
    "\n",
    "First, notice that the latitude values are slightly different between CLM and CAM. So we first need to force the CAM precip latitude to have the same values as CLM output.\n",
    "\n",
    "Then, we want to mask out precip over oceans, as CLM does not have any output there."
   ]
  },
  {
   "cell_type": "code",
   "execution_count": null,
   "id": "98ab5992-a521-4f7f-85a1-7569ab961a0a",
   "metadata": {},
   "outputs": [],
   "source": [
    "# This is done for you:  \n",
    "\n",
    "# adding a variable to precip 'lat' that corresponds with runoff lat (CLM latitudes..) \n",
    "total_precip['lat'] = Q.lat\n",
    "\n",
    "# masking precip to match the grid cells of clm\n",
    "total_precip_mask = total_precip*ds_clm.landmask\n",
    "\n",
    "# plotting it all together\n",
    "total_precip_mask.plot()"
   ]
  },
  {
   "cell_type": "markdown",
   "id": "a22db01e-d334-42cd-8029-b9cb26fa4e54",
   "metadata": {},
   "source": [
    "Now we can look at the land water balance by subtrating ET and runoff from P. What does this represent?"
   ]
  },
  {
   "cell_type": "code",
   "execution_count": null,
   "id": "52540ef2-1a31-4038-bac5-a0c4d76b36b1",
   "metadata": {},
   "outputs": [],
   "source": [
    "# calculate land water balance by subtracting P-ET\n",
    "dS = \n",
    "dS.plot()"
   ]
  },
  {
   "cell_type": "markdown",
   "id": "7c02674d-52e1-42eb-9923-da78e923c016",
   "metadata": {},
   "source": [
    "## Done! \n",
    "Congratulations on finishing your final practical! "
   ]
  },
  {
   "cell_type": "code",
   "execution_count": null,
   "id": "c90e886c-4c2f-4c1b-ad09-3404287d1b62",
   "metadata": {},
   "outputs": [],
   "source": []
  }
 ],
 "metadata": {
  "kernelspec": {
   "display_name": "Python 3 (ipykernel)",
   "language": "python",
   "name": "python3"
  },
  "language_info": {
   "codemirror_mode": {
    "name": "ipython",
    "version": 3
   },
   "file_extension": ".py",
   "mimetype": "text/x-python",
   "name": "python",
   "nbconvert_exporter": "python",
   "pygments_lexer": "ipython3",
   "version": "3.10.8"
  }
 },
 "nbformat": 4,
 "nbformat_minor": 5
}
